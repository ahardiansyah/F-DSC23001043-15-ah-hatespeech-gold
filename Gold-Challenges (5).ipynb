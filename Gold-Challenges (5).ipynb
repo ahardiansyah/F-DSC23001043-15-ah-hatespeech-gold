{
 "cells": [
  {
   "cell_type": "code",
   "execution_count": 155,
   "id": "e2fdc176",
   "metadata": {},
   "outputs": [
    {
     "name": "stdout",
     "output_type": "stream",
     "text": [
      "Requirement already satisfied: demoji in c:\\users\\akung\\anaconda3\\lib\\site-packages (1.1.0)\n",
      "Note: you may need to restart the kernel to use updated packages.\n"
     ]
    }
   ],
   "source": [
    "pip install --upgrade demoji"
   ]
  },
  {
   "cell_type": "code",
   "execution_count": 218,
   "id": "5d60e746",
   "metadata": {},
   "outputs": [],
   "source": [
    "import re\n",
    "import pandas as pd\n",
    "from flask import request\n",
    "from flasgger import Swagger, LazyString, LazyJSONEncoder\n",
    "from flasgger import swag_from\n",
    "from flask import Flask, jsonify\n",
    "import sqlite3\n",
    "import demoji\n",
    "import emoji\n",
    "from unidecode import unidecode\n",
    "\n"
   ]
  },
  {
   "cell_type": "code",
   "execution_count": 157,
   "id": "bc739912",
   "metadata": {},
   "outputs": [
    {
     "data": {
      "text/html": [
       "<div>\n",
       "<style scoped>\n",
       "    .dataframe tbody tr th:only-of-type {\n",
       "        vertical-align: middle;\n",
       "    }\n",
       "\n",
       "    .dataframe tbody tr th {\n",
       "        vertical-align: top;\n",
       "    }\n",
       "\n",
       "    .dataframe thead th {\n",
       "        text-align: right;\n",
       "    }\n",
       "</style>\n",
       "<table border=\"1\" class=\"dataframe\">\n",
       "  <thead>\n",
       "    <tr style=\"text-align: right;\">\n",
       "      <th></th>\n",
       "      <th>ABUSIVE</th>\n",
       "    </tr>\n",
       "  </thead>\n",
       "  <tbody>\n",
       "    <tr>\n",
       "      <th>0</th>\n",
       "      <td>alay</td>\n",
       "    </tr>\n",
       "    <tr>\n",
       "      <th>1</th>\n",
       "      <td>ampas</td>\n",
       "    </tr>\n",
       "    <tr>\n",
       "      <th>2</th>\n",
       "      <td>buta</td>\n",
       "    </tr>\n",
       "    <tr>\n",
       "      <th>3</th>\n",
       "      <td>keparat</td>\n",
       "    </tr>\n",
       "    <tr>\n",
       "      <th>4</th>\n",
       "      <td>anjing</td>\n",
       "    </tr>\n",
       "    <tr>\n",
       "      <th>...</th>\n",
       "      <td>...</td>\n",
       "    </tr>\n",
       "    <tr>\n",
       "      <th>120</th>\n",
       "      <td>rezim</td>\n",
       "    </tr>\n",
       "    <tr>\n",
       "      <th>121</th>\n",
       "      <td>sange</td>\n",
       "    </tr>\n",
       "    <tr>\n",
       "      <th>122</th>\n",
       "      <td>serbet</td>\n",
       "    </tr>\n",
       "    <tr>\n",
       "      <th>123</th>\n",
       "      <td>sipit</td>\n",
       "    </tr>\n",
       "    <tr>\n",
       "      <th>124</th>\n",
       "      <td>transgender</td>\n",
       "    </tr>\n",
       "  </tbody>\n",
       "</table>\n",
       "<p>125 rows × 1 columns</p>\n",
       "</div>"
      ],
      "text/plain": [
       "         ABUSIVE\n",
       "0           alay\n",
       "1          ampas\n",
       "2           buta\n",
       "3        keparat\n",
       "4         anjing\n",
       "..           ...\n",
       "120        rezim\n",
       "121        sange\n",
       "122       serbet\n",
       "123        sipit\n",
       "124  transgender\n",
       "\n",
       "[125 rows x 1 columns]"
      ]
     },
     "execution_count": 157,
     "metadata": {},
     "output_type": "execute_result"
    }
   ],
   "source": [
    "df_abussive = pd.read_csv('asset-challenges/abusive.csv')\n",
    "df_abussive"
   ]
  },
  {
   "cell_type": "code",
   "execution_count": 158,
   "id": "26789d3e",
   "metadata": {},
   "outputs": [
    {
     "data": {
      "text/html": [
       "<div>\n",
       "<style scoped>\n",
       "    .dataframe tbody tr th:only-of-type {\n",
       "        vertical-align: middle;\n",
       "    }\n",
       "\n",
       "    .dataframe tbody tr th {\n",
       "        vertical-align: top;\n",
       "    }\n",
       "\n",
       "    .dataframe thead th {\n",
       "        text-align: right;\n",
       "    }\n",
       "</style>\n",
       "<table border=\"1\" class=\"dataframe\">\n",
       "  <thead>\n",
       "    <tr style=\"text-align: right;\">\n",
       "      <th></th>\n",
       "      <th>kata_alay</th>\n",
       "      <th>kata_baku</th>\n",
       "    </tr>\n",
       "  </thead>\n",
       "  <tbody>\n",
       "    <tr>\n",
       "      <th>0</th>\n",
       "      <td>anakjakartaasikasik</td>\n",
       "      <td>anak jakarta asyik asyik</td>\n",
       "    </tr>\n",
       "    <tr>\n",
       "      <th>1</th>\n",
       "      <td>pakcikdahtua</td>\n",
       "      <td>pak cik sudah tua</td>\n",
       "    </tr>\n",
       "    <tr>\n",
       "      <th>2</th>\n",
       "      <td>pakcikmudalagi</td>\n",
       "      <td>pak cik muda lagi</td>\n",
       "    </tr>\n",
       "    <tr>\n",
       "      <th>3</th>\n",
       "      <td>t3tapjokowi</td>\n",
       "      <td>tetap jokowi</td>\n",
       "    </tr>\n",
       "    <tr>\n",
       "      <th>4</th>\n",
       "      <td>3x</td>\n",
       "      <td>tiga kali</td>\n",
       "    </tr>\n",
       "    <tr>\n",
       "      <th>...</th>\n",
       "      <td>...</td>\n",
       "      <td>...</td>\n",
       "    </tr>\n",
       "    <tr>\n",
       "      <th>15162</th>\n",
       "      <td>mendikbud</td>\n",
       "      <td>menteri pendidikan dan kebudayaan</td>\n",
       "    </tr>\n",
       "    <tr>\n",
       "      <th>15163</th>\n",
       "      <td>mendag</td>\n",
       "      <td>menteri perdagangan</td>\n",
       "    </tr>\n",
       "    <tr>\n",
       "      <th>15164</th>\n",
       "      <td>menaker</td>\n",
       "      <td>menteri tenaga kerja</td>\n",
       "    </tr>\n",
       "    <tr>\n",
       "      <th>15165</th>\n",
       "      <td>memetwit</td>\n",
       "      <td>mentwit</td>\n",
       "    </tr>\n",
       "    <tr>\n",
       "      <th>15166</th>\n",
       "      <td>megangin</td>\n",
       "      <td>memegang</td>\n",
       "    </tr>\n",
       "  </tbody>\n",
       "</table>\n",
       "<p>15167 rows × 2 columns</p>\n",
       "</div>"
      ],
      "text/plain": [
       "                 kata_alay                          kata_baku\n",
       "0      anakjakartaasikasik           anak jakarta asyik asyik\n",
       "1             pakcikdahtua                  pak cik sudah tua\n",
       "2           pakcikmudalagi                  pak cik muda lagi\n",
       "3              t3tapjokowi                       tetap jokowi\n",
       "4                       3x                          tiga kali\n",
       "...                    ...                                ...\n",
       "15162            mendikbud  menteri pendidikan dan kebudayaan\n",
       "15163               mendag                menteri perdagangan\n",
       "15164              menaker               menteri tenaga kerja\n",
       "15165             memetwit                            mentwit\n",
       "15166             megangin                           memegang\n",
       "\n",
       "[15167 rows x 2 columns]"
      ]
     },
     "execution_count": 158,
     "metadata": {},
     "output_type": "execute_result"
    }
   ],
   "source": [
    "df_kamusalay = pd.read_csv('asset-challenges/new_kamusalay.csv', header=None, names=['kata_alay', 'kata_baku'],encoding='latin-1')\n",
    "df_kamusalay"
   ]
  },
  {
   "cell_type": "code",
   "execution_count": 222,
   "id": "66304ae0",
   "metadata": {},
   "outputs": [
    {
     "data": {
      "text/html": [
       "<div>\n",
       "<style scoped>\n",
       "    .dataframe tbody tr th:only-of-type {\n",
       "        vertical-align: middle;\n",
       "    }\n",
       "\n",
       "    .dataframe tbody tr th {\n",
       "        vertical-align: top;\n",
       "    }\n",
       "\n",
       "    .dataframe thead th {\n",
       "        text-align: right;\n",
       "    }\n",
       "</style>\n",
       "<table border=\"1\" class=\"dataframe\">\n",
       "  <thead>\n",
       "    <tr style=\"text-align: right;\">\n",
       "      <th></th>\n",
       "      <th>Tweet</th>\n",
       "      <th>HS</th>\n",
       "      <th>Abusive</th>\n",
       "      <th>HS_Individual</th>\n",
       "      <th>HS_Group</th>\n",
       "      <th>HS_Religion</th>\n",
       "      <th>HS_Race</th>\n",
       "      <th>HS_Physical</th>\n",
       "      <th>HS_Gender</th>\n",
       "      <th>HS_Other</th>\n",
       "      <th>HS_Weak</th>\n",
       "      <th>HS_Moderate</th>\n",
       "      <th>HS_Strong</th>\n",
       "    </tr>\n",
       "  </thead>\n",
       "  <tbody>\n",
       "    <tr>\n",
       "      <th>0</th>\n",
       "      <td>- disaat semua cowok berusaha melacak perhatia...</td>\n",
       "      <td>1</td>\n",
       "      <td>1</td>\n",
       "      <td>1</td>\n",
       "      <td>0</td>\n",
       "      <td>0</td>\n",
       "      <td>0</td>\n",
       "      <td>0</td>\n",
       "      <td>0</td>\n",
       "      <td>1</td>\n",
       "      <td>1</td>\n",
       "      <td>0</td>\n",
       "      <td>0</td>\n",
       "    </tr>\n",
       "    <tr>\n",
       "      <th>1</th>\n",
       "      <td>RT USER: USER siapa yang telat ngasih tau elu?...</td>\n",
       "      <td>0</td>\n",
       "      <td>1</td>\n",
       "      <td>0</td>\n",
       "      <td>0</td>\n",
       "      <td>0</td>\n",
       "      <td>0</td>\n",
       "      <td>0</td>\n",
       "      <td>0</td>\n",
       "      <td>0</td>\n",
       "      <td>0</td>\n",
       "      <td>0</td>\n",
       "      <td>0</td>\n",
       "    </tr>\n",
       "  </tbody>\n",
       "</table>\n",
       "</div>"
      ],
      "text/plain": [
       "                                               Tweet  HS  Abusive  \\\n",
       "0  - disaat semua cowok berusaha melacak perhatia...   1        1   \n",
       "1  RT USER: USER siapa yang telat ngasih tau elu?...   0        1   \n",
       "\n",
       "   HS_Individual  HS_Group  HS_Religion  HS_Race  HS_Physical  HS_Gender  \\\n",
       "0              1         0            0        0            0          0   \n",
       "1              0         0            0        0            0          0   \n",
       "\n",
       "   HS_Other  HS_Weak  HS_Moderate  HS_Strong  \n",
       "0         1        1            0          0  \n",
       "1         0        0            0          0  "
      ]
     },
     "execution_count": 222,
     "metadata": {},
     "output_type": "execute_result"
    }
   ],
   "source": [
    "df_data = pd.read_csv('asset-challenges/data.csv',encoding='utf-8')\n",
    "df_data.head(2)"
   ]
  },
  {
   "cell_type": "code",
   "execution_count": null,
   "id": "f5b0ec1e",
   "metadata": {},
   "outputs": [],
   "source": []
  },
  {
   "cell_type": "markdown",
   "id": "412791b2",
   "metadata": {},
   "source": [
    "Fungsi-fungsi"
   ]
  },
  {
   "cell_type": "code",
   "execution_count": 160,
   "id": "29bba4c7",
   "metadata": {},
   "outputs": [],
   "source": [
    "def replace_kata_alay(text, df_kamusalay):\n",
    "    words = text.split()\n",
    "    for i in range(len(words)):\n",
    "        if words[i] in df_kamusalay['kata_alay'].values:\n",
    "            new_word = df_kamusalay.loc[df_kamusalay['kata_alay'] == words[i], 'kata_baku'].values[0]\n",
    "            words[i] = new_word\n",
    "    return ' '.join(words)"
   ]
  },
  {
   "cell_type": "code",
   "execution_count": 161,
   "id": "60faba5e",
   "metadata": {},
   "outputs": [],
   "source": [
    "def insert_data(text, cleaned_text):\n",
    "    try: \n",
    "        conn_f = sqlite3.connect('asset-challenges/input_kalimat.db')       \n",
    "        cursor_f = conn_f.cursor()    \n",
    "        cursor_f.execute(\"INSERT INTO data_kalimat (text, cleaned_text) VALUES (?, ?)\", (text, cleaned_text))\n",
    "        conn_f.commit()\n",
    "    except Exception as e:\n",
    "        print(f\"Error insert: {str(e)}\")\n",
    "    finally:\n",
    "        conn_f.close()"
   ]
  },
  {
   "cell_type": "code",
   "execution_count": 254,
   "id": "a0004317",
   "metadata": {},
   "outputs": [],
   "source": [
    "def insert_data_file(text, cleaned_text, hs, abusive, hs_individual, hs_group, hs_religion, hs_race, hs_physical, hs_gender, hs_other, hs_weak, hs_moderate, hs_strong):\n",
    "    try:\n",
    "        conn_f = sqlite3.connect('asset-challenges/input_file.db')\n",
    "        cursor_f = conn_f.cursor()\n",
    "        \n",
    "        cursor_f.execute(\"\"\"\n",
    "            INSERT INTO data_kalimat_file (\n",
    "                text, cleaned_text, hs, abusive, hs_individual, \n",
    "                hs_group, hs_religion, hs_race, hs_physical, hs_gender, \n",
    "                hs_other, hs_weak, hs_moderate, hs_strong\n",
    "            ) \n",
    "            VALUES (?, ?, ?, ?, ?, ?, ?, ?, ?, ?, ?, ?, ?, ?)\n",
    "        \"\"\", (text, cleaned_text, hs, abusive, hs_individual, \n",
    "              hs_group, hs_religion, hs_race, hs_physical, hs_gender, \n",
    "              hs_other, hs_weak, hs_moderate, hs_strong))\n",
    "              \n",
    "        conn_f.commit()\n",
    "    except Exception as e:\n",
    "        print(f\"Error insert: {str(e)}\")\n",
    "    finally:\n",
    "        conn_f.close()"
   ]
  },
  {
   "cell_type": "code",
   "execution_count": 108,
   "id": "d60ce8c4",
   "metadata": {},
   "outputs": [],
   "source": [
    "def remove_em(text):\n",
    "    dem = demoji.findall(text)\n",
    "    for item in dem.keys():\n",
    "        text = text.replace(item, '')\n",
    "    return text"
   ]
  },
  {
   "cell_type": "markdown",
   "id": "f066fa17",
   "metadata": {},
   "source": [
    "\n",
    "main code"
   ]
  },
  {
   "cell_type": "code",
   "execution_count": 255,
   "id": "033c5bce",
   "metadata": {
    "scrolled": true
   },
   "outputs": [
    {
     "name": "stdout",
     "output_type": "stream",
     "text": [
      " * Serving Flask app \"__main__\" (lazy loading)\n",
      " * Environment: production\n",
      "\u001b[31m   WARNING: This is a development server. Do not use it in a production deployment.\u001b[0m\n",
      "\u001b[2m   Use a production WSGI server instead.\u001b[0m\n",
      " * Debug mode: off\n"
     ]
    },
    {
     "name": "stderr",
     "output_type": "stream",
     "text": [
      " * Running on http://127.0.0.1:5000/ (Press CTRL+C to quit)\n",
      "127.0.0.1 - - [30/Nov/2023 19:54:35] \"POST /text-processing-file HTTP/1.1\" 200 -\n"
     ]
    }
   ],
   "source": [
    "app = Flask(__name__)\n",
    "\n",
    "app.json_encoder = LazyJSONEncoder\n",
    "swagger_template = dict(\n",
    "info = {\n",
    "    'title': LazyString(lambda: 'API Documentation for Data Processing and Modeling'),\n",
    "    'version': LazyString(lambda: '1.0.0'),\n",
    "    'description': LazyString(lambda: 'Dokumentasi API untuk Data Processing dan Modeling'),\n",
    "    },\n",
    "    host = LazyString(lambda: request.host)\n",
    ")\n",
    "\n",
    "swagger_config = {\n",
    "    \"headers\": [],\n",
    "    \"specs\": [\n",
    "        {\n",
    "            \"endpoint\": 'api',\n",
    "            \"route\": '/api.json',\n",
    "        }\n",
    "    ],\n",
    "    \"static_url_path\": \"/flasgger_static\",\n",
    "    \"swagger_ui\": True,\n",
    "    \"specs_route\": \"/api/\"\n",
    "}\n",
    "\n",
    "\n",
    "swagger = Swagger(app, template=swagger_template,             \n",
    "                  config=swagger_config)\n",
    "\n",
    "\n",
    "# input kalimat\n",
    "@swag_from(\"C://Users/akung/api/text_processing.yml\", methods=['POST'])\n",
    "@app.route('/text-processing', methods=['POST'])\n",
    "def text_processing():\n",
    "\n",
    "    text = request.form.get('text')\n",
    "    cleaned_text = re.sub(r'[^a-zA-Z0-9\\s]', ' ', text)\n",
    "    cleaned_text = re.sub(' +', ' ', cleaned_text).strip()\n",
    "    cleaned_text = replace_kata_alay(cleaned_text, df_kamusalay)\n",
    "    \n",
    "#     conn.execute('''INSERT INTO data_kalimat (text, cleaned_text) VALUES (?, ?) ''', (text, cleaned_text))\n",
    "#     conn.commit()\n",
    "    insert_data(text, cleaned_text)\n",
    "\n",
    "    \n",
    "    json_response = {\n",
    "        'status_code': 200,\n",
    "        'description': \"Teks yang sudah diproses\",\n",
    "        'data': cleaned_text,\n",
    "    }\n",
    "\n",
    "    response_data = jsonify(json_response)\n",
    "    return response_data\n",
    "\n",
    "\n",
    "#input file\n",
    "@swag_from(\"C://Users/akung/api/text_processing_file.yml\", methods=['POST'])\n",
    "@app.route('/text-processing-file', methods=['POST'])\n",
    "def text_processing_file():\n",
    "\n",
    "    file = request.files.getlist('file')[0]\n",
    "    df_file = pd.read_csv(file,encoding='utf-8')\n",
    "    \n",
    "    texts_file = df_file['Tweet'].to_list()\n",
    "    \n",
    "    hs_file = df_file['HS'].to_list()\n",
    "    abusive_file = df_file['Abusive'].to_list()\n",
    "    hs_individual_file = df_file['HS_Individual'].to_list()\n",
    "    hs_group_file = df_file['HS_Group'].to_list()\n",
    "    hs_religion_file = df_file['HS_Religion'].to_list()\n",
    "    \n",
    "    hs_race_file = df_file['HS_Race'].to_list()\n",
    "    hs_physical_file = df_file['HS_Physical'].to_list()\n",
    "    hs_gender_file = df_file['HS_Gender'].to_list()\n",
    "    hs_other_file = df_file['HS_Other'].to_list()\n",
    "    hs_weak_file = df_file['HS_Weak'].to_list()\n",
    "    \n",
    "    hs_moderate_file = df_file['HS_Moderate'].to_list()\n",
    "    hs_strong_file = df_file['HS_Strong'].to_list()    \n",
    "    \n",
    "    \n",
    "    \n",
    "    \n",
    "    cleaned_text = []\n",
    "    for text in texts_file:\n",
    "        cleaned_text.append(re.sub(r'[^a-zA-Z0-9\\s]', ' ', text))\n",
    "#         cleaned_text.append(re.sub(r'[^a-zA-Z0-9\\s]', ' ', str(text)))   \n",
    "#     cleaned_text_new = []\n",
    "#     for text in cleaned_text:\n",
    "#         cleaned_text_new.append(replace_kata_alay(text, df_kamusalay))\n",
    "    \n",
    "    cleaned_text_alay = [replace_kata_alay(text, df_kamusalay) for text in cleaned_text]\n",
    "    tanpa_kata_user = [re.sub(r'\\bUSER\\b', '',text) for text in cleaned_text_alay]\n",
    "    cleaned_text_RT = [re.sub(r'\\bRT\\b', '',text) for text in tanpa_kata_user]\n",
    "    cleaned_text_new = [re.sub(r'\\s+', ' ',text ).strip() for text in cleaned_text_RT ]\n",
    "    \n",
    "    for i in range(len(texts_file)):\n",
    "        insert_data_file(texts_file[i], cleaned_text_new[i], hs_file[i], abusive_file[i], hs_individual_file[i], \n",
    "                         hs_group_file[i], hs_religion_file[i], hs_race_file[i], hs_physical_file[i], hs_gender_file[i], \n",
    "                         hs_other_file[i], hs_weak_file[i], hs_moderate_file[i], hs_strong_file[i])\n",
    "    \n",
    "    json_response = {\n",
    "        'status_code': 200,\n",
    "        'description': \"Teks yang sudah diproses\",\n",
    "        'data': cleaned_text_new,\n",
    "    }\n",
    "    response_data = jsonify(json_response)\n",
    "    return response_data\n",
    "\n",
    "if __name__ == '__main__':\n",
    "   app.run()"
   ]
  },
  {
   "cell_type": "code",
   "execution_count": null,
   "id": "4824b4ca",
   "metadata": {},
   "outputs": [],
   "source": [
    "\n"
   ]
  },
  {
   "cell_type": "code",
   "execution_count": null,
   "id": "06cfd65a",
   "metadata": {},
   "outputs": [],
   "source": []
  },
  {
   "cell_type": "code",
   "execution_count": null,
   "id": "66ef22e1",
   "metadata": {},
   "outputs": [],
   "source": []
  },
  {
   "cell_type": "code",
   "execution_count": null,
   "id": "0c566310",
   "metadata": {},
   "outputs": [],
   "source": []
  },
  {
   "cell_type": "code",
   "execution_count": null,
   "id": "d7dfd814",
   "metadata": {},
   "outputs": [],
   "source": []
  },
  {
   "cell_type": "code",
   "execution_count": null,
   "id": "dff9d378",
   "metadata": {},
   "outputs": [],
   "source": []
  },
  {
   "cell_type": "code",
   "execution_count": null,
   "id": "0a01f367",
   "metadata": {},
   "outputs": [],
   "source": []
  },
  {
   "cell_type": "code",
   "execution_count": null,
   "id": "129564a0",
   "metadata": {},
   "outputs": [],
   "source": []
  },
  {
   "cell_type": "markdown",
   "id": "4f050991",
   "metadata": {},
   "source": [
    "# olah-olah"
   ]
  },
  {
   "cell_type": "markdown",
   "id": "f2668c6a",
   "metadata": {},
   "source": [
    "# olah-olah"
   ]
  },
  {
   "cell_type": "markdown",
   "id": "8e65af17",
   "metadata": {},
   "source": [
    "membuat table untuk input kalimat"
   ]
  },
  {
   "cell_type": "code",
   "execution_count": 26,
   "id": "ccaf0c64",
   "metadata": {},
   "outputs": [
    {
     "data": {
      "text/plain": [
       "<sqlite3.Cursor at 0x21cacc87f80>"
      ]
     },
     "execution_count": 26,
     "metadata": {},
     "output_type": "execute_result"
    }
   ],
   "source": [
    "conn = sqlite3.connect('asset-challenges/input_kalimat.db')\n",
    "cursor = conn.cursor()\n",
    "cursor.execute(\"DROP TABLE data_kalimat\")\n",
    "cursor.close()\n",
    "conn.close()"
   ]
  },
  {
   "cell_type": "code",
   "execution_count": 27,
   "id": "9b7f7108",
   "metadata": {},
   "outputs": [
    {
     "name": "stdout",
     "output_type": "stream",
     "text": [
      "Sukses\n"
     ]
    }
   ],
   "source": [
    "conn = sqlite3.connect('asset-challenges/input_kalimat.db')\n",
    "cursor = conn.cursor()\n",
    "cursor.execute('''CREATE TABLE data_kalimat(id INTEGER PRIMARY KEY AUTOINCREMENT, text TEXT, cleaned_text TEXT)''')\n",
    "print('Sukses buat table')\n",
    "cursor.close()\n",
    "conn.close()"
   ]
  },
  {
   "cell_type": "code",
   "execution_count": 29,
   "id": "7debda7a",
   "metadata": {},
   "outputs": [
    {
     "name": "stdout",
     "output_type": "stream",
     "text": [
      "sukses\n"
     ]
    }
   ],
   "source": [
    "conn = sqlite3.connect('asset-challenges/input_kalimat.db')\n",
    "cursor = conn.cursor()\n",
    "#test insert\n",
    "cursor.execute(\"INSERT INTO data_kalimat (text, cleaned_text) VALUES (?, ?)\", ('test kalimat', 'test kalimat bersih'))\n",
    "conn.commit()\n",
    "print('sukses')\n",
    "cursor.close()\n",
    "conn.close()"
   ]
  },
  {
   "cell_type": "code",
   "execution_count": 72,
   "id": "baf417de",
   "metadata": {},
   "outputs": [
    {
     "name": "stdout",
     "output_type": "stream",
     "text": [
      "[(1, 'test kalimat', 'test kalimat bersih'), (2, 'coba', 'bersih'), (3, 'cccc', 'cccc'), (4, 'ini pakcikdahtua 😊😊😒❤️', 'ini pak cik sudah tua'), (5, '🐗🐗🐨🐻 🛒🦺🧥 jam⏲️⌚⌛', 'jam'), (6, ' 📢 ', '')]\n"
     ]
    }
   ],
   "source": [
    "conn = sqlite3.connect('asset-challenges/input_kalimat.db')\n",
    "cursor = conn.cursor()\n",
    "#cek isi data\n",
    "cursor.execute(\"SELECT * FROM data_kalimat\")\n",
    "hasil = cursor.fetchall()\n",
    "\n",
    "print(hasil)\n",
    "cursor.close()\n",
    "conn.close()"
   ]
  },
  {
   "cell_type": "code",
   "execution_count": null,
   "id": "ce206554",
   "metadata": {},
   "outputs": [],
   "source": []
  },
  {
   "cell_type": "markdown",
   "id": "0c9bd7f8",
   "metadata": {},
   "source": [
    "Membuat table untuk input file"
   ]
  },
  {
   "cell_type": "code",
   "execution_count": 248,
   "id": "2b8fd062",
   "metadata": {},
   "outputs": [],
   "source": [
    "conn = sqlite3.connect('asset-challenges/input_file.db')\n",
    "cursor = conn.cursor()\n",
    "cursor.execute(\"DROP TABLE data_kalimat_file\")\n",
    "conn.commit()\n",
    "cursor.close()\n",
    "conn.close()"
   ]
  },
  {
   "cell_type": "code",
   "execution_count": null,
   "id": "f3a92924",
   "metadata": {},
   "outputs": [],
   "source": []
  },
  {
   "cell_type": "code",
   "execution_count": 249,
   "id": "1047bd81",
   "metadata": {},
   "outputs": [
    {
     "name": "stdout",
     "output_type": "stream",
     "text": [
      "Sukses\n"
     ]
    }
   ],
   "source": [
    "conn = sqlite3.connect('asset-challenges/input_file.db')\n",
    "cursor = conn.cursor()\n",
    "\n",
    "cursor.execute('''\n",
    "    CREATE TABLE data_kalimat_file (\n",
    "        id INTEGER PRIMARY KEY AUTOINCREMENT,\n",
    "        text TEXT,\n",
    "        cleaned_text TEXT,\n",
    "        \n",
    "        hs INTEGER,\n",
    "        abusive INTEGER,\n",
    "        hs_individual INTEGER,\n",
    "        \n",
    "        hs_group INTEGER,\n",
    "        hs_religion INTEGER,\n",
    "        hs_race INTEGER,\n",
    "        hs_physical INTEGER,\n",
    "        hs_gender INTEGER,\n",
    "        hs_other INTEGER,\n",
    "        hs_weak INTEGER,\n",
    "        hs_moderate INTEGER,\n",
    "        hs_strong INTEGER\n",
    "    );\n",
    "''')\n",
    "\n",
    "print('Sukses')\n",
    "conn.commit()\n",
    "cursor.close()\n",
    "conn.close()"
   ]
  },
  {
   "cell_type": "code",
   "execution_count": 253,
   "id": "50f53365",
   "metadata": {},
   "outputs": [
    {
     "name": "stdout",
     "output_type": "stream",
     "text": [
      "[]\n"
     ]
    }
   ],
   "source": [
    "conn = sqlite3.connect('asset-challenges/input_file.db')\n",
    "cursor = conn.cursor()\n",
    "#cek isi data\n",
    "cursor.execute(\"SELECT * FROM data_kalimat_file LIMIT 1\")\n",
    "hasil = cursor.fetchall()\n",
    "print(hasil)\n",
    "cursor.close()\n",
    "conn.close()"
   ]
  },
  {
   "cell_type": "code",
   "execution_count": 204,
   "id": "b0694def",
   "metadata": {},
   "outputs": [],
   "source": [
    "df_hasil = pd.DataFrame(hasil)\n"
   ]
  },
  {
   "cell_type": "code",
   "execution_count": 37,
   "id": "170dc1f0",
   "metadata": {},
   "outputs": [],
   "source": [
    "conn = sqlite3.connect('asset-challenges/input_file.db')\n",
    "cursor = conn.cursor()\n",
    "#cek isi data\n",
    "cursor.execute(\"DELETE FROM data_kalimat_file\")\n",
    "conn.commit()\n",
    "cursor.close()\n",
    "conn.close()"
   ]
  },
  {
   "cell_type": "code",
   "execution_count": 13,
   "id": "f2d449fe",
   "metadata": {},
   "outputs": [],
   "source": [
    "text = \"coba 2   😒😒😍😍 P)(&%$#@)\"\n",
    "bersih = \"bersih 2\"\n",
    "insert_data_file(text, bersih)"
   ]
  },
  {
   "cell_type": "code",
   "execution_count": 115,
   "id": "57a3c9a5",
   "metadata": {},
   "outputs": [
    {
     "name": "stdout",
     "output_type": "stream",
     "text": [
      "ini teks\n",
      " b'Hello! \\xf0\\x9f\\x93\\xa2 End Climate Silence is looking for volunteers! \\n\\n1-2 hours per week. \\xf0\\x9f\\x95\\x91\\n\\nExperience doing digital research\\xe2\\x80\\xa6 \\xf0\\x9f\\x98\\x84\\xf0\\x9f\\x98\\x84\\xf0\\x9f\\x98\\x84  USER Slga mnr bom \\xf0\\x9f\\x98\\x82'\n",
      "ini decode\n",
      " Hello! 📢 End Climate Silence is looking for volunteers! \n",
      "\n",
      "1-2 hours per week. 🕑\n",
      "\n",
      "Experience doing digital research… 😄😄😄  USER Slga mnr bom 😂\n"
     ]
    }
   ],
   "source": [
    "text= b'Hello! \\xf0\\x9f\\x93\\xa2 End Climate Silence is looking for volunteers! \\n\\n1-2 hours per week. \\xf0\\x9f\\x95\\x91\\n\\nExperience doing digital research\\xe2\\x80\\xa6 \\xf0\\x9f\\x98\\x84\\xf0\\x9f\\x98\\x84\\xf0\\x9f\\x98\\x84  USER Slga mnr bom \\xf0\\x9f\\x98\\x82'\n",
    "# text.decode(\"utf8\")\n",
    "print('ini teks\\n',text)\n",
    "\n",
    "\n",
    "print('ini decode\\n',text_decode)"
   ]
  },
  {
   "cell_type": "code",
   "execution_count": 142,
   "id": "4b15769a",
   "metadata": {},
   "outputs": [
    {
     "name": "stdout",
     "output_type": "stream",
     "text": [
      "Ari sarua beki mah repeh monyet😆😆\n"
     ]
    }
   ],
   "source": [
    "data_baru = b'Ari sarua beki mah repeh monyet\\xf0\\x9f\\x98\\x86\\xf0\\x9f\\x98\\x86'\n",
    "text_baru = data_baru.decode(\"utf-8\")\n",
    "print(text_baru)"
   ]
  },
  {
   "cell_type": "code",
   "execution_count": null,
   "id": "297c76d1",
   "metadata": {},
   "outputs": [],
   "source": [
    "def remove_em(text):\n",
    "    dem = demoji.findall(text)\n",
    "    for item in dem.keys():\n",
    "        text = text.replace(item, '')\n",
    "    return text"
   ]
  },
  {
   "cell_type": "code",
   "execution_count": 189,
   "id": "ea2b6027",
   "metadata": {},
   "outputs": [],
   "source": [
    "df_data = pd.read_csv('C:/Users/akung/asset-challenges/archive/data.csv',  encoding='latin-1')\n",
    "texts_file = df_data['Tweet'].to_list()"
   ]
  },
  {
   "cell_type": "code",
   "execution_count": null,
   "id": "28dc1cee",
   "metadata": {},
   "outputs": [],
   "source": []
  },
  {
   "cell_type": "code",
   "execution_count": null,
   "id": "365b5e43",
   "metadata": {},
   "outputs": [],
   "source": []
  },
  {
   "cell_type": "code",
   "execution_count": 191,
   "id": "cfb79828",
   "metadata": {},
   "outputs": [],
   "source": [
    "def remove_emojis(data):\n",
    "    emoj = re.compile(\"[\"\n",
    "        u\"\\U0001F600-\\U0001F64F\"  # emoticons\n",
    "        u\"\\U0001F300-\\U0001F5FF\"  # symbols & pictographs\n",
    "        u\"\\U0001F680-\\U0001F6FF\"  # transport & map symbols\n",
    "        u\"\\U0001F1E0-\\U0001F1FF\"  # flags (iOS)\n",
    "        u\"\\U00002500-\\U00002BEF\"  # chinese char\n",
    "        u\"\\U00002702-\\U000027B0\"\n",
    "        u\"\\U000024C2-\\U0001F251\"\n",
    "        u\"\\U0001f926-\\U0001f937\"\n",
    "        u\"\\U00010000-\\U0010ffff\"\n",
    "        u\"\\U0001FA00-\\U0001FA6F\"  # Chess Symbols\n",
    "        u\"\\U0001F700-\\U0001F77F\"  # alchemical symbols\n",
    "        u\"\\U0001F780-\\U0001F7FF\"  # Geometric Shapes Extended\n",
    "        u\"\\U0001F800-\\U0001F8FF\"  # Supplemental Arrows-C\n",
    "                               u\"\\U0001F900-\\U0001F9FF\"  # Supplemental Symbols and Pictographs\n",
    "        u\"\\u2640-\\u2642\" \n",
    "        u\"\\u2600-\\u2B55\"\n",
    "        u\"\\u200d\"\n",
    "        u\"\\u23cf\"\n",
    "        u\"\\u23e9\"\n",
    "        u\"\\u231a\"\n",
    "        u\"\\ufe0f\"  # dingbats\n",
    "        u\"\\u3030\"\n",
    "                      \"]+\", re.UNICODE)\n",
    "    return re.sub(emoj, '', data)"
   ]
  },
  {
   "cell_type": "code",
   "execution_count": null,
   "id": "959cbe9b",
   "metadata": {},
   "outputs": [],
   "source": [
    "df_data = pd.read_csv('asset-challenges/data.csv',encoding='latin-1')\n",
    "df_data.to_csv('data.csv', index=False, encoding='utf-8')"
   ]
  }
 ],
 "metadata": {
  "kernelspec": {
   "display_name": "Python 3 (ipykernel)",
   "language": "python",
   "name": "python3"
  },
  "language_info": {
   "codemirror_mode": {
    "name": "ipython",
    "version": 3
   },
   "file_extension": ".py",
   "mimetype": "text/x-python",
   "name": "python",
   "nbconvert_exporter": "python",
   "pygments_lexer": "ipython3",
   "version": "3.9.13"
  }
 },
 "nbformat": 4,
 "nbformat_minor": 5
}
